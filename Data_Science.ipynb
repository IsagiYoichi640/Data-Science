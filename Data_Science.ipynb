{
  "nbformat": 4,
  "nbformat_minor": 0,
  "metadata": {
    "colab": {
      "provenance": [],
      "authorship_tag": "ABX9TyPc1c7/da99D89EqcO12kMV",
      "include_colab_link": true
    },
    "kernelspec": {
      "name": "python3",
      "display_name": "Python 3"
    },
    "language_info": {
      "name": "python"
    }
  },
  "cells": [
    {
      "cell_type": "markdown",
      "metadata": {
        "id": "view-in-github",
        "colab_type": "text"
      },
      "source": [
        "<a href=\"https://colab.research.google.com/github/IsagiYoichi640/Data-Science/blob/main/Data_Science.ipynb\" target=\"_parent\"><img src=\"https://colab.research.google.com/assets/colab-badge.svg\" alt=\"Open In Colab\"/></a>"
      ]
    },
    {
      "cell_type": "code",
      "execution_count": 4,
      "metadata": {
        "id": "Q6bThNxFb4JY"
      },
      "outputs": [],
      "source": [
        "import numpy as np\n",
        "from numpy import random"
      ]
    },
    {
      "cell_type": "code",
      "source": [
        "num1=np.array(random.randint(1,20,size=20))\n",
        "print(num1)"
      ],
      "metadata": {
        "colab": {
          "base_uri": "https://localhost:8080/"
        },
        "id": "q9cQxLskcm24",
        "outputId": "217acda8-2753-47e7-8001-dbfe9e1bde8f"
      },
      "execution_count": 64,
      "outputs": [
        {
          "output_type": "stream",
          "name": "stdout",
          "text": [
            "[ 1 17 18 14  9  5  7 15  9  3  5 15  5  3  8  7 18  7 11 10]\n"
          ]
        }
      ]
    },
    {
      "cell_type": "code",
      "source": [
        "#sort in ascending order\n",
        "print(np.sort(num1))"
      ],
      "metadata": {
        "colab": {
          "base_uri": "https://localhost:8080/"
        },
        "id": "ihzmFkwEdgH8",
        "outputId": "9365644a-6a46-49f8-9683-ba09866e4bcc"
      },
      "execution_count": 70,
      "outputs": [
        {
          "output_type": "stream",
          "name": "stdout",
          "text": [
            "[ 1  3  3  5  5  5  7  7  7  8  9  9 10 11 14 15 15 17 18 18]\n"
          ]
        }
      ]
    },
    {
      "cell_type": "code",
      "source": [
        "#sort in descending order\n",
        "print(np.sort(num1)[::-1])"
      ],
      "metadata": {
        "colab": {
          "base_uri": "https://localhost:8080/"
        },
        "id": "paS28--rd0RN",
        "outputId": "579f47f2-21f3-4502-c317-d2ef95f052fd"
      },
      "execution_count": 71,
      "outputs": [
        {
          "output_type": "stream",
          "name": "stdout",
          "text": [
            "[18 18 17 15 15 14 11 10  9  9  8  7  7  7  5  5  5  3  3  1]\n"
          ]
        }
      ]
    }
  ]
}