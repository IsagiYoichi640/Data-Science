{
  "nbformat": 4,
  "nbformat_minor": 0,
  "metadata": {
    "colab": {
      "provenance": [],
      "authorship_tag": "ABX9TyM34k59H8Z+3ey/GMy5tzbv",
      "include_colab_link": true
    },
    "kernelspec": {
      "name": "python3",
      "display_name": "Python 3"
    },
    "language_info": {
      "name": "python"
    }
  },
  "cells": [
    {
      "cell_type": "markdown",
      "metadata": {
        "id": "view-in-github",
        "colab_type": "text"
      },
      "source": [
        "<a href=\"https://colab.research.google.com/github/IsagiYoichi640/Data-Science/blob/main/Data_Science_Hw.ipynb\" target=\"_parent\"><img src=\"https://colab.research.google.com/assets/colab-badge.svg\" alt=\"Open In Colab\"/></a>"
      ]
    },
    {
      "cell_type": "code",
      "execution_count": 1,
      "metadata": {
        "id": "hSVRqzfJe1zG"
      },
      "outputs": [],
      "source": [
        "import numpy as np"
      ]
    },
    {
      "cell_type": "code",
      "source": [
        "array1 = np.array([10, 20, 30, 40])\n",
        "array2 = np.array([2, 4, 6, 8])"
      ],
      "metadata": {
        "id": "GKEYcT9UfBRT"
      },
      "execution_count": 5,
      "outputs": []
    },
    {
      "cell_type": "code",
      "source": [
        "sum= array1 + array2\n",
        "sub = array1 - array2\n",
        "div = array1 / array2\n",
        "mul= array1 * array2\n",
        "\n",
        "# Print results\n",
        "print(\"Sum:\", sum)\n",
        "print(\"Subtraction:\", sub)\n",
        "print(\"Division:\", div)\n",
        "print(\"Multiplication:\", mul)"
      ],
      "metadata": {
        "colab": {
          "base_uri": "https://localhost:8080/"
        },
        "id": "Ecvc2j7cfG3f",
        "outputId": "d114ca39-cd16-49d4-8eec-6871b1a68d98"
      },
      "execution_count": 6,
      "outputs": [
        {
          "output_type": "stream",
          "name": "stdout",
          "text": [
            "Sum: [12 24 36 48]\n",
            "Subtraction: [ 8 16 24 32]\n",
            "Division: [5. 5. 5. 5.]\n",
            "Multiplication: [ 20  80 180 320]\n"
          ]
        }
      ]
    }
  ]
}